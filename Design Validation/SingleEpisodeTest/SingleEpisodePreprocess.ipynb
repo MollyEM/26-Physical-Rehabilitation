{
 "cells": [
  {
   "cell_type": "code",
   "execution_count": 3,
   "id": "e3c12c91",
   "metadata": {},
   "outputs": [
    {
     "name": "stdout",
     "output_type": "stream",
     "text": [
      "[[ 69.          39.          69.         ...  56.7         65.3\n",
      "   45.5       ]\n",
      " [ 69.          38.9725      69.         ...   9.2875      95.24\n",
      "   12.22875   ]\n",
      " [ 69.          38.          69.         ...  11.50909091  66.72\n",
      "   34.4375    ]\n",
      " ...\n",
      " [ 68.9825      43.          68.0825     ...  88.75875     87.5\n",
      "   69.        ]\n",
      " [ 68.          43.          68.         ...  54.5875     106.8275\n",
      "   95.1       ]\n",
      " [ 68.          42.32        68.         ...  60.8475      88.235\n",
      "   70.5175    ]]\n",
      "[[ 69.       69.       69.      ...  68.9825   68.       68.     ]\n",
      " [ 39.       38.9725   38.      ...  43.       43.       42.32   ]\n",
      " [  0.        0.        0.      ...   0.        0.        0.     ]\n",
      " ...\n",
      " [ 65.3      95.24     66.72    ...  87.5     106.8275   88.235  ]\n",
      " [ 45.5      12.22875  34.4375  ...  69.       95.1      70.5175 ]\n",
      " [  0.        0.        0.      ...   0.        0.        0.     ]]\n"
     ]
    }
   ],
   "source": [
    "#input: smoothed openpose joint positions for one episode\n",
    "#40 frames as input\n",
    "\n",
    "#change z points to zeros\n",
    "#flip rows and columns\n",
    "#center data\n",
    "\n",
    "import pandas as pd\n",
    "import numpy as np\n",
    "import cv2\n",
    "import csv\n",
    "\n",
    "path = \"C:/Users/Molly Meadows/OneDrive - University of Idaho/Documents/2023-2024/Capstone Project/26-Physical-Rehabilitation/Design Validation/SingleEpisodeTest/same_size_csvs/\"\n",
    "frames = 40\n",
    "\n",
    "df = pd.read_csv(path + \"VID_20240405_153032758.csv\", header=None)\n",
    "arr1 = df.to_numpy()\n",
    "\n",
    "print(arr1)\n",
    "\n",
    "#print(arr1)\n",
    "\n",
    "#insert zeros into every 3rd column\n",
    "j = range(2, 51, 2)\n",
    "k = 0 #[0] * frames\n",
    "raw_data = np.insert(arr1, j, k, axis = 1)\n",
    "raw_data_1 = raw_data.reshape(75 * frames)\n",
    "raw_data_2 = raw_data_1.reshape(75, frames, order = 'F')\n",
    "#arr1[:, range(2, len(arr1 + 1), 3)] = 0\n",
    "\n",
    "print(raw_data_2)\n",
    "\n",
    "#arr2 = np.swapaxes(arr1, 0, 1)\n",
    "\n",
    "#print(arr2)\n",
    "\n",
    "#center data\n",
    "data_mean = np.mean(raw_data_2, axis = 0)\n",
    "centered_data = raw_data_2 - data_mean\n",
    "scaling_value = np.ceil(max(np.max(centered_data), abs(np.min(centered_data))))\n",
    "data_correct = centered_data / scaling_value\n",
    "\n",
    "#write to csv\n",
    "f = open(path + \"VID_20240405_153032758\" + \"_smoothed.csv\", 'w', newline = '')\n",
    "w = csv.writer(f)\n",
    "np.apply_along_axis(w.writerow, axis = 1, arr = data_correct)\n",
    "f.close()\n"
   ]
  },
  {
   "cell_type": "code",
   "execution_count": null,
   "id": "4bb06a8c",
   "metadata": {},
   "outputs": [],
   "source": []
  },
  {
   "cell_type": "code",
   "execution_count": null,
   "id": "e0ce9476",
   "metadata": {},
   "outputs": [],
   "source": []
  }
 ],
 "metadata": {
  "kernelspec": {
   "display_name": "Python 3 (ipykernel)",
   "language": "python",
   "name": "python3"
  },
  "language_info": {
   "codemirror_mode": {
    "name": "ipython",
    "version": 3
   },
   "file_extension": ".py",
   "mimetype": "text/x-python",
   "name": "python",
   "nbconvert_exporter": "python",
   "pygments_lexer": "ipython3",
   "version": "3.9.13"
  }
 },
 "nbformat": 4,
 "nbformat_minor": 5
}
