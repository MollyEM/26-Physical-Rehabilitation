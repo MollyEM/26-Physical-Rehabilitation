{
 "cells": [
  {
   "cell_type": "code",
   "execution_count": 30,
   "id": "e3c12c91",
   "metadata": {},
   "outputs": [
    {
     "name": "stdout",
     "output_type": "stream",
     "text": [
      "[[6.70000000e+01 6.70000000e+01 6.70200000e+01 ... 6.96600000e+01\n",
      "  7.00000000e+01 7.00000000e+01]\n",
      " [1.30000000e+01 1.30000000e+01 1.30000000e+01 ... 1.20000000e+01\n",
      "  1.12600000e+01 1.10000000e+01]\n",
      " [0.00000000e+00 0.00000000e+00 0.00000000e+00 ... 0.00000000e+00\n",
      "  0.00000000e+00 0.00000000e+00]\n",
      " ...\n",
      " [6.30000000e+01 6.30000000e+01 6.30200000e+01 ... 6.59700000e+01\n",
      "  6.60000000e+01 6.60000000e+01]\n",
      " [9.00000000e+00 9.00000000e+00 9.00000000e+00 ... 8.00000000e+00\n",
      "  7.02000000e+00 7.00000000e+00]\n",
      " [6.47842810e-02 6.66705355e-02 5.87185097e-02 ... 5.67208690e-02\n",
      "  7.84035117e-02 8.23547690e-02]]\n"
     ]
    }
   ],
   "source": [
    "#input: smoothed openpose joint positions for one episode\n",
    "#40 frames as input\n",
    "\n",
    "#change z points to zeros\n",
    "#flip rows and columns\n",
    "#center data\n",
    "\n",
    "import pandas as pd\n",
    "import numpy as np\n",
    "import cv2\n",
    "import csv\n",
    "\n",
    "path = \"C:/Users/Molly Meadows/OneDrive - University of Idaho/Documents/2023-2024/Capstone Project/26-Physical-Rehabilitation/Design Validation/SingleEpisodeTest/same_size_csvs/\"\n",
    "df = pd.read_csv(path + \"VID_20240305_154742900.csv\", header=None)\n",
    "arr1 = df.to_numpy()\n",
    "\n",
    "#print(arr1)\n",
    "arr1[:, range(2, len(arr1), 3)] = 0\n",
    "\n",
    "#print(arr1)\n",
    "\n",
    "arr2 = np.swapaxes(arr1, 0, 1)\n",
    "\n",
    "print(arr2)\n",
    "\n",
    "#center data\n",
    "data_mean = np.mean(arr2, axis = 0)\n",
    "centered_data = arr2 - data_mean\n",
    "scaling_value = np.ceil(max(np.max(centered_data), abs(np.min(centered_data))))\n",
    "data_correct = centered_data / scaling_value\n",
    "\n",
    "#write to csv\n",
    "f = open(path + \"VID_20240305_154742900\" + \"_smoothed.csv\", 'w', newline = '')\n",
    "w = csv.writer(f)\n",
    "np.apply_along_axis(w.writerow, axis = 1, arr = data_correct)\n",
    "f.close()"
   ]
  },
  {
   "cell_type": "code",
   "execution_count": null,
   "id": "4bb06a8c",
   "metadata": {},
   "outputs": [],
   "source": []
  },
  {
   "cell_type": "code",
   "execution_count": null,
   "id": "e0ce9476",
   "metadata": {},
   "outputs": [],
   "source": []
  }
 ],
 "metadata": {
  "kernelspec": {
   "display_name": "Python 3 (ipykernel)",
   "language": "python",
   "name": "python3"
  },
  "language_info": {
   "codemirror_mode": {
    "name": "ipython",
    "version": 3
   },
   "file_extension": ".py",
   "mimetype": "text/x-python",
   "name": "python",
   "nbconvert_exporter": "python",
   "pygments_lexer": "ipython3",
   "version": "3.9.13"
  }
 },
 "nbformat": 4,
 "nbformat_minor": 5
}
