{
 "cells": [
  {
   "cell_type": "code",
   "execution_count": 1,
   "id": "e3c12c91",
   "metadata": {},
   "outputs": [],
   "source": [
    "#input: smoothed openpose joint positions for one episode\n",
    "#40 frames as input\n",
    "\n",
    "#change z points to zeros\n",
    "#flip rows and columns\n",
    "#center data\n",
    "\n",
    "import pandas as pd\n",
    "import numpy as np\n",
    "import cv2\n",
    "import csv\n",
    "\n",
    "path = \"C:/Users/Molly Meadows/OneDrive - University of Idaho/Documents/2023-2024/Capstone Project/Retest of videos/same_size_csvs/\"\n",
    "frames = 40\n",
    "\n",
    "def toSpatio(filename):\n",
    "    df = pd.read_csv(path + filename + \".csv\", header=None)\n",
    "    arr1 = df.to_numpy()\n",
    "\n",
    "    print(arr1)\n",
    "\n",
    "    #print(arr1)\n",
    "\n",
    "    #insert zeros into every 3rd column\n",
    "    j = range(2, 51, 2)\n",
    "    k = 0 #[0] * frames\n",
    "    raw_data = np.insert(arr1, j, k, axis = 1)\n",
    "    raw_data_1 = raw_data.reshape(75 * frames)\n",
    "    raw_data_2 = raw_data_1.reshape(75, frames, order = 'F')\n",
    "    #arr1[:, range(2, len(arr1 + 1), 3)] = 0\n",
    "\n",
    "    print(raw_data_2)\n",
    "\n",
    "    #arr2 = np.swapaxes(arr1, 0, 1)\n",
    "\n",
    "    #print(arr2)\n",
    "\n",
    "    #center data\n",
    "    data_mean = np.mean(raw_data_2, axis = 0)\n",
    "    centered_data = raw_data_2 - data_mean\n",
    "    scaling_value = np.ceil(max(np.max(centered_data), abs(np.min(centered_data))))\n",
    "    data_correct = centered_data / scaling_value\n",
    "\n",
    "    #write to csv\n",
    "    f = open(path + filename + \"_smoothed.csv\", 'w', newline = '')\n",
    "    w = csv.writer(f)\n",
    "    np.apply_along_axis(w.writerow, axis = 1, arr = data_correct)\n",
    "    f.close()\n"
   ]
  },
  {
   "cell_type": "code",
   "execution_count": 2,
   "id": "033b2f73",
   "metadata": {},
   "outputs": [
    {
     "name": "stdout",
     "output_type": "stream",
     "text": [
      "[[38.   28.   38.   ... 82.   33.   79.  ]\n",
      " [38.   28.66 38.   ... 82.   33.   79.66]\n",
      " [38.   29.   38.   ... 82.   33.   79.96]\n",
      " ...\n",
      " [38.82 31.18 38.   ... 83.   33.   81.  ]\n",
      " [39.   30.42 38.   ... 83.   33.   81.  ]\n",
      " [39.   30.   38.   ... 83.   33.   81.  ]]\n",
      "[[38.   38.   38.   ... 38.82 39.   39.  ]\n",
      " [28.   28.66 29.   ... 31.18 30.42 30.  ]\n",
      " [ 0.    0.    0.   ...  0.    0.    0.  ]\n",
      " ...\n",
      " [33.   33.   33.   ... 33.   33.   33.  ]\n",
      " [79.   79.66 79.96 ... 81.   81.   81.  ]\n",
      " [ 0.    0.    0.   ...  0.    0.    0.  ]]\n"
     ]
    }
   ],
   "source": [
    "toSpatio(\"MollyGoodSquat\")\n"
   ]
  },
  {
   "cell_type": "code",
   "execution_count": null,
   "id": "4bb06a8c",
   "metadata": {},
   "outputs": [],
   "source": []
  },
  {
   "cell_type": "code",
   "execution_count": null,
   "id": "e0ce9476",
   "metadata": {},
   "outputs": [],
   "source": []
  }
 ],
 "metadata": {
  "kernelspec": {
   "display_name": "Python 3 (ipykernel)",
   "language": "python",
   "name": "python3"
  },
  "language_info": {
   "codemirror_mode": {
    "name": "ipython",
    "version": 3
   },
   "file_extension": ".py",
   "mimetype": "text/x-python",
   "name": "python",
   "nbconvert_exporter": "python",
   "pygments_lexer": "ipython3",
   "version": "3.9.13"
  }
 },
 "nbformat": 4,
 "nbformat_minor": 5
}
