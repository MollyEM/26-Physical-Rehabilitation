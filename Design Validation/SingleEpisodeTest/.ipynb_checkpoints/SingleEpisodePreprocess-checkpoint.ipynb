{
 "cells": [
  {
   "cell_type": "code",
   "execution_count": 4,
   "id": "e3c12c91",
   "metadata": {},
   "outputs": [
    {
     "name": "stdout",
     "output_type": "stream",
     "text": [
      "[[73.     44.     72.     ... 90.     67.     89.    ]\n",
      " [73.     44.     72.     ... 90.     67.     89.    ]\n",
      " [73.     44.     72.     ... 90.     67.     89.    ]\n",
      " ...\n",
      " [72.     47.4    72.     ... 92.     66.9625 91.    ]\n",
      " [72.     46.     72.     ... 92.     66.3    91.    ]\n",
      " [72.     46.     72.     ... 92.     66.8    91.    ]]\n",
      "[[73.     44.      0.     ... 90.     67.     89.    ]\n",
      " [73.     44.      0.     ... 90.     67.     89.    ]\n",
      " [73.     44.      0.     ... 90.     67.     89.    ]\n",
      " ...\n",
      " [72.     47.4     0.     ... 92.     66.9625 91.    ]\n",
      " [72.     46.      0.     ... 92.     66.3    91.    ]\n",
      " [72.     46.      0.     ... 92.     66.8    91.    ]]\n"
     ]
    },
    {
     "data": {
      "text/plain": [
       "'\\nf = open(path + \"VID_20240305_154742900\" + \"_smoothed.csv\", \\'w\\', newline = \\'\\')\\nw = csv.writer(f)\\nnp.apply_along_axis(w.writerow, axis = 1, arr = data_correct)\\nf.close()\\n'"
      ]
     },
     "execution_count": 4,
     "metadata": {},
     "output_type": "execute_result"
    }
   ],
   "source": [
    "#input: smoothed openpose joint positions for one episode\n",
    "#40 frames as input\n",
    "\n",
    "#change z points to zeros\n",
    "#flip rows and columns\n",
    "#center data\n",
    "\n",
    "import pandas as pd\n",
    "import numpy as np\n",
    "import cv2\n",
    "import csv\n",
    "\n",
    "path = \"C:/Users/Molly Meadows/OneDrive - University of Idaho/Documents/2023-2024/Capstone Project/26-Physical-Rehabilitation/Design Validation/SingleEpisodeTest/same_size_csvs/\"\n",
    "df = pd.read_csv(path + \"VID_20240405_152924506.csv\", header=None)\n",
    "arr1 = df.to_numpy()\n",
    "\n",
    "print(arr1)\n",
    "\n",
    "#print(arr1)\n",
    "\n",
    "#insert zeros into every 3rd column\n",
    "new = np.insert() \n",
    "#arr1[:, range(2, len(arr1 + 1), 3)] = 0\n",
    "\n",
    "print(arr1)\n",
    "\n",
    "#arr2 = np.swapaxes(arr1, 0, 1)\n",
    "\n",
    "#print(arr2)\n",
    "\n",
    "#center data\n",
    "data_mean = np.mean(arr2, axis = 0)\n",
    "centered_data = arr2 - data_mean\n",
    "scaling_value = np.ceil(max(np.max(centered_data), abs(np.min(centered_data))))\n",
    "data_correct = centered_data / scaling_value\n",
    "\n",
    "#write to csv\n",
    "'''\n",
    "f = open(path + \"VID_20240305_154742900\" + \"_smoothed.csv\", 'w', newline = '')\n",
    "w = csv.writer(f)\n",
    "np.apply_along_axis(w.writerow, axis = 1, arr = data_correct)\n",
    "f.close()\n",
    "'''"
   ]
  },
  {
   "cell_type": "code",
   "execution_count": null,
   "id": "4bb06a8c",
   "metadata": {},
   "outputs": [],
   "source": []
  },
  {
   "cell_type": "code",
   "execution_count": null,
   "id": "e0ce9476",
   "metadata": {},
   "outputs": [],
   "source": []
  }
 ],
 "metadata": {
  "kernelspec": {
   "display_name": "Python 3 (ipykernel)",
   "language": "python",
   "name": "python3"
  },
  "language_info": {
   "codemirror_mode": {
    "name": "ipython",
    "version": 3
   },
   "file_extension": ".py",
   "mimetype": "text/x-python",
   "name": "python",
   "nbconvert_exporter": "python",
   "pygments_lexer": "ipython3",
   "version": "3.9.13"
  }
 },
 "nbformat": 4,
 "nbformat_minor": 5
}
