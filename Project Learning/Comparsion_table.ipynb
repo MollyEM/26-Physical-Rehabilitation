{
 "cells": [
  {
   "cell_type": "code",
   "execution_count": 7,
   "id": "01a08db4-3880-4efb-afa7-b3c407d6d3d7",
   "metadata": {
    "tags": []
   },
   "outputs": [
    {
     "name": "stdout",
     "output_type": "stream",
     "text": [
      "Average Kinect Quality Score: 0.8018419\n",
      "Average Vicon Quality Score: 0.92220706\n"
     ]
    }
   ],
   "source": [
    "import pandas as pd\n",
    "import numpy as np\n",
    "\n",
    "kinect_scores = np.load('pred_test_kimore.npy').flatten()\n",
    "\n",
    "vicon_scores = np.load('pred_test_vicon.npy').flatten()\n",
    "\n",
    "kinect_avg_score = np.mean(kinect_scores)\n",
    "vicon_avg_score = np.mean(vicon_scores)\n",
    "\n",
    "print(\"Average Kinect Quality Score:\", kinect_avg_score)\n",
    "print(\"Average Vicon Quality Score:\", vicon_avg_score)\n",
    "\n",
    "\n",
    "\n"
   ]
  },
  {
   "cell_type": "code",
   "execution_count": null,
   "id": "dd08d907-2daa-4bd1-8631-83ddfdde5138",
   "metadata": {},
   "outputs": [],
   "source": []
  }
 ],
 "metadata": {
  "kernelspec": {
   "display_name": "Python 3 (ipykernel)",
   "language": "python",
   "name": "python3"
  },
  "language_info": {
   "codemirror_mode": {
    "name": "ipython",
    "version": 3
   },
   "file_extension": ".py",
   "mimetype": "text/x-python",
   "name": "python",
   "nbconvert_exporter": "python",
   "pygments_lexer": "ipython3",
   "version": "3.11.5"
  }
 },
 "nbformat": 4,
 "nbformat_minor": 5
}
