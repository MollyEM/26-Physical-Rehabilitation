{
 "cells": [
  {
   "cell_type": "code",
   "execution_count": 9,
   "id": "01a08db4-3880-4efb-afa7-b3c407d6d3d7",
   "metadata": {
    "tags": []
   },
   "outputs": [
    {
     "name": "stdout",
     "output_type": "stream",
     "text": [
      "    Kinect Predictions  Vicon Predictions\n",
      "0             0.857633           0.944608\n",
      "1             0.559465           0.952056\n",
      "2             0.855834           0.956939\n",
      "3             0.855760           0.958165\n",
      "4             0.999059           0.958861\n",
      "5             0.756046           0.942338\n",
      "6             0.999071           0.942126\n",
      "7             0.701325           0.925679\n",
      "8             0.857837           0.940710\n",
      "9             0.629223           0.928412\n",
      "10            0.790652           0.932353\n",
      "11            0.994302           0.934524\n",
      "12            0.797242           0.936621\n",
      "13            0.934768           0.942080\n",
      "14            0.877903           0.941522\n",
      "15            0.998035           0.943310\n",
      "16            0.487230           0.942238\n",
      "17            0.498487           0.958925\n",
      "18            0.868113           0.959128\n",
      "19            0.832709           0.958363\n",
      "20            0.268850           0.959473\n",
      "21            0.961589           0.921825\n",
      "22            0.793971           0.943416\n",
      "23            0.628586           0.950844\n",
      "24            0.811347           0.952230\n",
      "25            0.536622           0.950539\n",
      "26            0.645624           0.957401\n",
      "27            0.741536           0.957739\n",
      "28            0.742396           0.949054\n",
      "29            0.780932           0.948231\n",
      "30            0.712283           0.911238\n",
      "31            0.957690           0.837947\n",
      "32            0.388500           0.849432\n",
      "33            0.844262           0.907548\n",
      "34            0.878338           0.846557\n",
      "35            0.989638           0.888222\n",
      "36            0.709789           0.840020\n",
      "37            0.912764           0.925622\n",
      "38            0.961925           0.875762\n",
      "39            0.704708           0.888271\n",
      "40            0.831250           0.894165\n",
      "41            0.764352           0.873145\n",
      "42            0.964434           0.929282\n",
      "43            0.969864           0.861809\n",
      "44            0.999142           0.880786\n",
      "45            0.558572           0.864608\n",
      "46            0.971669           0.883423\n",
      "47            0.496382           0.912223\n",
      "48            0.842143           0.895919\n",
      "49            0.932392           0.879402\n",
      "50            0.541556           0.879026\n",
      "51            0.603531           0.845287\n",
      "52            0.999046           0.925465\n",
      "53            0.625752           0.681060\n",
      "54            0.717825           0.706204\n",
      "55            0.849852           0.805644\n"
     ]
    }
   ],
   "source": [
    "import numpy as np\n",
    "import pandas as pd\n",
    "\n",
    "pred_test_kinect = np.load('pred_test_kinect.npy')\n",
    "pred_test_vicon = np.load('pred_test_vicon.npy')\n",
    "\n",
    "min_length = min(len(pred_test_kinect), len(pred_test_vicon))\n",
    "pred_test_kinect = pred_test_kinect[:min_length]\n",
    "pred_test_vicon = pred_test_vicon[:min_length]\n",
    "\n",
    "data = {'Kinect Predictions': pred_test_kinect.flatten(),\n",
    "        'Vicon Predictions': pred_test_vicon.flatten()}\n",
    "df = pd.DataFrame(data)\n",
    "\n",
    "print(df)"
   ]
  },
  {
   "cell_type": "code",
   "execution_count": null,
   "id": "dd08d907-2daa-4bd1-8631-83ddfdde5138",
   "metadata": {},
   "outputs": [],
   "source": []
  }
 ],
 "metadata": {
  "kernelspec": {
   "display_name": "Python 3 (ipykernel)",
   "language": "python",
   "name": "python3"
  },
  "language_info": {
   "codemirror_mode": {
    "name": "ipython",
    "version": 3
   },
   "file_extension": ".py",
   "mimetype": "text/x-python",
   "name": "python",
   "nbconvert_exporter": "python",
   "pygments_lexer": "ipython3",
   "version": "3.11.5"
  }
 },
 "nbformat": 4,
 "nbformat_minor": 5
}
